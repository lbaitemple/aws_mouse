{
 "cells": [
  {
   "cell_type": "code",
   "execution_count": 30,
   "metadata": {},
   "outputs": [],
   "source": [
    "from PIL import Image, ImageEnhance, ImageDraw\n",
    "from IPython import display"
   ]
  },
  {
   "cell_type": "code",
   "execution_count": 42,
   "metadata": {},
   "outputs": [],
   "source": [
    "# open image\n",
    "img = Image.open(\"temple_logo.png\")\n",
    "\n",
    "# resize\n",
    "new_size = (325, 325)\n",
    "img_resized = img.resize(new_size)\n",
    "\n",
    "# extra room\n",
    "blank_space = 12\n",
    "# unit size\n",
    "unit_space = 325\n",
    "# total size\n",
    "img_final_size = (1024, 1024)\n",
    "\n",
    "# set empty image\n",
    "img_final = Image.new('RGBA', (img_final_size))\n",
    "\n",
    "# (0, 0)\n",
    "img_final.paste(img_resized.rotate(180), (blank_space, blank_space))\n",
    "\n",
    "# (0, 1)\n",
    "img_final.paste(img_resized.rotate(90), (blank_space, 2 * blank_space + unit_space))\n",
    "\n",
    "# (0, 2)\n",
    "img_final.paste(img_resized.rotate(180), (blank_space, 3 * blank_space + 2 * unit_space))\n",
    "\n",
    "# (1, 2)\n",
    "img_final.paste(img_resized.rotate(90), (2 * blank_space +  unit_space, 3 * blank_space + 2 * unit_space))\n",
    "\n",
    "# (2, 1)\n",
    "img_final.paste(img_resized, (3 * blank_space +  2 * unit_space, 2 * blank_space + unit_space))\n",
    "\n",
    "# (2,2)\n",
    "img_final.paste(img_resized.rotate(90), (3 * blank_space +  2 * unit_space, 3 * blank_space + 2 * unit_space))\n",
    "\n",
    "\n",
    "img_final.save('temple_logo_fitted.png')\n",
    "\n"
   ]
  },
  {
   "cell_type": "code",
   "execution_count": null,
   "metadata": {},
   "outputs": [],
   "source": []
  }
 ],
 "metadata": {
  "kernelspec": {
   "display_name": "Python 2",
   "language": "python",
   "name": "python2"
  },
  "language_info": {
   "codemirror_mode": {
    "name": "ipython",
    "version": 2
   },
   "file_extension": ".py",
   "mimetype": "text/x-python",
   "name": "python",
   "nbconvert_exporter": "python",
   "pygments_lexer": "ipython2",
   "version": "2.7.17"
  }
 },
 "nbformat": 4,
 "nbformat_minor": 2
}
